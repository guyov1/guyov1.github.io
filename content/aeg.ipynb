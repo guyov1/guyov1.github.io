{
 "cells": [
  {
   "cell_type": "markdown",
   "metadata": {},
   "source": [
    "# Preface\n",
    "\n",
    "Hello and welcome to my first blog post!!! <br/>\n",
    "First, I would like to recommend the following [blog post](https://www.dataquest.io/blog/how-to-setup-a-data-science-blog/) on how to start your first blog. <br/>\n",
    "This will allow you to write everything as a simple ipython notebook, brilliant!\n",
    "\n",
    "Today, I will review the excellent article named [Adversarial Generator-Encoder Networks](https://arxiv.org/pdf/1704.02304.pdf), by Dmitry Ulyanov. \n",
    "\n"
   ]
  },
  {
   "cell_type": "markdown",
   "metadata": {},
   "source": [
    "<img alt=\"aeg\" src=\"{attach}/images/AEG-face_interp.png\" width=\"650\" height=\"300\"/>\n",
    "<p class=\"caption\">Figure 1 - Interpolating pairs of faces using AEG</p>"
   ]
  }
 ],
 "metadata": {
  "kernelspec": {
   "display_name": "Python 3",
   "language": "python",
   "name": "python3"
  },
  "language_info": {
   "codemirror_mode": {
    "name": "ipython",
    "version": 3
   },
   "file_extension": ".py",
   "mimetype": "text/x-python",
   "name": "python",
   "nbconvert_exporter": "python",
   "pygments_lexer": "ipython3",
   "version": "3.5.2"
  }
 },
 "nbformat": 4,
 "nbformat_minor": 1
}
